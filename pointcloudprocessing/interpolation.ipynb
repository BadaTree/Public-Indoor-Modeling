{
 "cells": [
  {
   "cell_type": "code",
   "execution_count": 1,
   "metadata": {},
   "outputs": [
    {
     "ename": "ModuleNotFoundError",
     "evalue": "No module named 'open3d'",
     "output_type": "error",
     "traceback": [
      "\u001b[1;31m---------------------------------------------------------------------------\u001b[0m",
      "\u001b[1;31mModuleNotFoundError\u001b[0m                       Traceback (most recent call last)",
      "\u001b[1;32mc:\\Users\\SKH\\Github_local\\3D_Modeling_with_Three.js\\pointcloudprocessing\\interpolation.ipynb Cell 1\u001b[0m line \u001b[0;36m1\n\u001b[1;32m----> <a href='vscode-notebook-cell:/c%3A/Users/SKH/Github_local/3D_Modeling_with_Three.js/pointcloudprocessing/interpolation.ipynb#W0sZmlsZQ%3D%3D?line=0'>1</a>\u001b[0m \u001b[39mimport\u001b[39;00m \u001b[39mopen3d\u001b[39;00m \u001b[39mas\u001b[39;00m \u001b[39mo3d\u001b[39;00m\n\u001b[0;32m      <a href='vscode-notebook-cell:/c%3A/Users/SKH/Github_local/3D_Modeling_with_Three.js/pointcloudprocessing/interpolation.ipynb#W0sZmlsZQ%3D%3D?line=1'>2</a>\u001b[0m \u001b[39mimport\u001b[39;00m \u001b[39mnumpy\u001b[39;00m \u001b[39mas\u001b[39;00m \u001b[39mnp\u001b[39;00m\n\u001b[0;32m      <a href='vscode-notebook-cell:/c%3A/Users/SKH/Github_local/3D_Modeling_with_Three.js/pointcloudprocessing/interpolation.ipynb#W0sZmlsZQ%3D%3D?line=2'>3</a>\u001b[0m \u001b[39mfrom\u001b[39;00m \u001b[39mscipy\u001b[39;00m \u001b[39mimport\u001b[39;00m interpolate\n",
      "\u001b[1;31mModuleNotFoundError\u001b[0m: No module named 'open3d'"
     ]
    }
   ],
   "source": [
    "import open3d as o3d\n",
    "import numpy as np\n",
    "from scipy import interpolate\n",
    "\n",
    "# PLY 파일 경로 설정\n",
    "ply_file_path = \"C:/Users/SKH/Github_local/3D_Modeling_with_Three.js/pointcloudprocessing/data/point_cloud (4).ply\"\n",
    "\n",
    "# 포인트 클라우드 데이터를 읽어옵니다.\n",
    "pcd = o3d.io.read_point_cloud(\"C:/Users/SKH/Github_local/3D_Modeling_with_Three.js/pointcloudprocessing/data/point_cloud (4).ply\")\n",
    "\n",
    "# 포인트 클라우드에서 포인트들의 좌표를 추출합니다.\n",
    "points = np.asarray(pcd.points)\n",
    "\n",
    "# 좌표를 출력합니다.\n",
    "for point in points:\n",
    "    print(f\"Point: {point}\")\n",
    "\n",
    "# 포인트 클라우드 데이터 읽기\n",
    "pcd = o3d.io.read_point_cloud(ply_file_path)\n",
    "print(pcd)  # 입력 포인트 클라우드 확인\n",
    "\n",
    "# 처음 입력 포인트 클라우드 시각화\n",
    "o3d.visualization.draw_geometries([pcd])"
   ]
  },
  {
   "cell_type": "code",
   "execution_count": null,
   "metadata": {},
   "outputs": [],
   "source": [
    "# Statistical Outlier Removal 이용한 이상치 제거\n",
    "cl, ind = pcd.remove_statistical_outlier(nb_neighbors=20, std_ratio=2.0)\n",
    "inlier_pcd = pcd.select_by_index(ind)\n",
    "print(\"Statistical Outlier Removal\")\n",
    "o3d.visualization.draw_geometries([inlier_pcd])"
   ]
  },
  {
   "cell_type": "code",
   "execution_count": null,
   "metadata": {},
   "outputs": [],
   "source": [
    "# 데이터 다운샘플링\n",
    "downsampled_pcd = inlier_pcd.voxel_down_sample(voxel_size=0.05)\n",
    "print(\"Downsampled\")\n",
    "o3d.visualization.draw_geometries([downsampled_pcd])"
   ]
  },
  {
   "cell_type": "code",
   "execution_count": null,
   "metadata": {},
   "outputs": [],
   "source": [
    "# 스플라인 보간\n",
    "downsampled_points = np.asarray(downsampled_pcd.points)\n",
    "x = downsampled_points[:, 0]\n",
    "y = downsampled_points[:, 1]\n",
    "z = downsampled_points[:, 2]\n",
    "\n",
    "# 스플라인 함수 설정\n",
    "tck, _ = interpolate.splprep([x, y, z], s=0)\n",
    "u = np.linspace(0, 1, num=1000)\n",
    "interpolated_points = interpolate.splev(u, tck)\n",
    "\n",
    "interpolated_pcd = o3d.geometry.PointCloud()\n",
    "interpolated_pcd.points = o3d.utility.Vector3dVector(np.column_stack(interpolated_points))\n",
    "print(\"Interpolated\")\n",
    "o3d.visualization.draw_geometries([interpolated_pcd])"
   ]
  },
  {
   "cell_type": "code",
   "execution_count": null,
   "metadata": {},
   "outputs": [],
   "source": [
    "# 압축 작업 (예: 랜덤 샘플링)\n",
    "sample_size = min(1000, len(interpolated_points[0]))  # 원본 배열 크기보다 큰 샘플 크기를 방지\n",
    "sampled_indices = np.random.choice(len(interpolated_points[0]), size=sample_size, replace=False)\n",
    "compressed_points = np.array([interpolated_points[0][sampled_indices], interpolated_points[1][sampled_indices], interpolated_points[2][sampled_indices]]).T\n",
    "compressed_pcd = o3d.geometry.PointCloud()\n",
    "compressed_pcd.points = o3d.utility.Vector3dVector(compressed_points)\n",
    "print(\"Compressed\")\n",
    "o3d.visualization.draw_geometries([compressed_pcd])"
   ]
  },
  {
   "cell_type": "code",
   "execution_count": null,
   "metadata": {},
   "outputs": [],
   "source": [
    "# 압축된 데이터를 PLY 파일로 저장\n",
    "output_ply_file = \"C:/Users/SKH/Github_local/3D_Modeling_with_Three.js/pointcloudprocessing/data/compressed_point_cloud.ply\"\n",
    "o3d.io.write_point_cloud(output_ply_file, compressed_pcd)\n",
    "\n",
    "print(f\"Compressed point cloud saved to {output_ply_file}\")\n"
   ]
  }
 ],
 "metadata": {
  "kernelspec": {
   "display_name": "Python 3",
   "language": "python",
   "name": "python3"
  },
  "language_info": {
   "codemirror_mode": {
    "name": "ipython",
    "version": 3
   },
   "file_extension": ".py",
   "mimetype": "text/x-python",
   "name": "python",
   "nbconvert_exporter": "python",
   "pygments_lexer": "ipython3",
   "version": "3.10.9"
  }
 },
 "nbformat": 4,
 "nbformat_minor": 2
}
